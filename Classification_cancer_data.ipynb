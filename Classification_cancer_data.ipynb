{
 "cells": [
  {
   "cell_type": "code",
   "execution_count": 24,
   "metadata": {},
   "outputs": [],
   "source": [
    "library(e1071)\n",
    "library(caret)\n",
    "library(dplyr)\n",
    "library(class)\n"
   ]
  },
  {
   "cell_type": "code",
   "execution_count": 92,
   "metadata": {},
   "outputs": [],
   "source": [
    "data<-read.csv(\"D:\\\\Training\\\\Prostate_Cancer.csv\")"
   ]
  },
  {
   "cell_type": "code",
   "execution_count": 80,
   "metadata": {},
   "outputs": [
    {
     "data": {
      "text/html": [
       "95"
      ],
      "text/latex": [
       "95"
      ],
      "text/markdown": [
       "95"
      ],
      "text/plain": [
       "[1] 95"
      ]
     },
     "metadata": {},
     "output_type": "display_data"
    }
   ],
   "source": [
    "data<-na.omit(data[-1])\n",
    "nrow(data)"
   ]
  },
  {
   "cell_type": "code",
   "execution_count": 81,
   "metadata": {},
   "outputs": [],
   "source": [
    "index<-createDataPartition(data$diagnosis_result,p=.7,list=FALSE)\n",
    "data<-data[index,]\n",
    "test<-data[-index,]"
   ]
  },
  {
   "cell_type": "code",
   "execution_count": 82,
   "metadata": {},
   "outputs": [],
   "source": [
    "modelsvm<-svm(diagnosis_result~.,data=data,kernel=\"linear\")"
   ]
  },
  {
   "cell_type": "code",
   "execution_count": 83,
   "metadata": {},
   "outputs": [],
   "source": [
    "predsvm<-predict(modelsvm,test, type=\"class\")"
   ]
  },
  {
   "cell_type": "code",
   "execution_count": 84,
   "metadata": {},
   "outputs": [
    {
     "data": {
      "text/plain": [
       "Confusion Matrix and Statistics\n",
       "\n",
       "          Reference\n",
       "Prediction  B  M\n",
       "         B 10  2\n",
       "         M  0 11\n",
       "                                          \n",
       "               Accuracy : 0.913           \n",
       "                 95% CI : (0.7196, 0.9893)\n",
       "    No Information Rate : 0.5652          \n",
       "    P-Value [Acc > NIR] : 0.0003367       \n",
       "                                          \n",
       "                  Kappa : 0.8271          \n",
       "                                          \n",
       " Mcnemar's Test P-Value : 0.4795001       \n",
       "                                          \n",
       "            Sensitivity : 1.0000          \n",
       "            Specificity : 0.8462          \n",
       "         Pos Pred Value : 0.8333          \n",
       "         Neg Pred Value : 1.0000          \n",
       "             Prevalence : 0.4348          \n",
       "         Detection Rate : 0.4348          \n",
       "   Detection Prevalence : 0.5217          \n",
       "      Balanced Accuracy : 0.9231          \n",
       "                                          \n",
       "       'Positive' Class : B               \n",
       "                                          "
      ]
     },
     "metadata": {},
     "output_type": "display_data"
    }
   ],
   "source": [
    "confusionMatrix(predsvm,test$diagnosis_result)"
   ]
  },
  {
   "cell_type": "code",
   "execution_count": 85,
   "metadata": {},
   "outputs": [],
   "source": [
    "normalize <- function(x){\n",
    "\n",
    "    return((x-min(x))/(max(x) - min(x)))} "
   ]
  },
  {
   "cell_type": "code",
   "execution_count": 86,
   "metadata": {},
   "outputs": [],
   "source": [
    "trainknn <- as.data.frame(lapply(data[2:9], normalize))\n",
    "train_labels<-data[,1]\n",
    "testknn<-as.data.frame(lapply(test[2:9],normalize))\n",
    "test_labels<-test[,1]"
   ]
  },
  {
   "cell_type": "code",
   "execution_count": 87,
   "metadata": {},
   "outputs": [],
   "source": [
    "predictionknn<- knn(train = trainknn, test = testknn,cl = train_labels, k=11)"
   ]
  },
  {
   "cell_type": "code",
   "execution_count": 88,
   "metadata": {},
   "outputs": [
    {
     "data": {
      "text/plain": [
       "Confusion Matrix and Statistics\n",
       "\n",
       "          Reference\n",
       "Prediction  B  M\n",
       "         B 10  1\n",
       "         M  0 12\n",
       "                                          \n",
       "               Accuracy : 0.9565          \n",
       "                 95% CI : (0.7805, 0.9989)\n",
       "    No Information Rate : 0.5652          \n",
       "    P-Value [Acc > NIR] : 3.738e-05       \n",
       "                                          \n",
       "                  Kappa : 0.9125          \n",
       "                                          \n",
       " Mcnemar's Test P-Value : 1               \n",
       "                                          \n",
       "            Sensitivity : 1.0000          \n",
       "            Specificity : 0.9231          \n",
       "         Pos Pred Value : 0.9091          \n",
       "         Neg Pred Value : 1.0000          \n",
       "             Prevalence : 0.4348          \n",
       "         Detection Rate : 0.4348          \n",
       "   Detection Prevalence : 0.4783          \n",
       "      Balanced Accuracy : 0.9615          \n",
       "                                          \n",
       "       'Positive' Class : B               \n",
       "                                          "
      ]
     },
     "metadata": {},
     "output_type": "display_data"
    }
   ],
   "source": [
    "confusionMatrix(predictionknn,test_labels)"
   ]
  },
  {
   "cell_type": "code",
   "execution_count": 89,
   "metadata": {},
   "outputs": [],
   "source": [
    "modelnb<-naiveBayes(diagnosis_result~.,data=data)"
   ]
  },
  {
   "cell_type": "code",
   "execution_count": 90,
   "metadata": {},
   "outputs": [],
   "source": [
    "predictionsb<-predict(modelnb,test)"
   ]
  },
  {
   "cell_type": "code",
   "execution_count": 91,
   "metadata": {},
   "outputs": [
    {
     "data": {
      "text/plain": [
       "Confusion Matrix and Statistics\n",
       "\n",
       "          Reference\n",
       "Prediction  B  M\n",
       "         B 10  4\n",
       "         M  0  9\n",
       "                                          \n",
       "               Accuracy : 0.8261          \n",
       "                 95% CI : (0.6122, 0.9505)\n",
       "    No Information Rate : 0.5652          \n",
       "    P-Value [Acc > NIR] : 0.008148        \n",
       "                                          \n",
       "                  Kappa : 0.6618          \n",
       "                                          \n",
       " Mcnemar's Test P-Value : 0.133614        \n",
       "                                          \n",
       "            Sensitivity : 1.0000          \n",
       "            Specificity : 0.6923          \n",
       "         Pos Pred Value : 0.7143          \n",
       "         Neg Pred Value : 1.0000          \n",
       "             Prevalence : 0.4348          \n",
       "         Detection Rate : 0.4348          \n",
       "   Detection Prevalence : 0.6087          \n",
       "      Balanced Accuracy : 0.8462          \n",
       "                                          \n",
       "       'Positive' Class : B               \n",
       "                                          "
      ]
     },
     "metadata": {},
     "output_type": "display_data"
    }
   ],
   "source": [
    "\n",
    "confusionMatrix(predictionsb,test_labels)"
   ]
  }
 ],
 "metadata": {
  "kernelspec": {
   "display_name": "R",
   "language": "R",
   "name": "ir"
  },
  "language_info": {
   "codemirror_mode": "r",
   "file_extension": ".r",
   "mimetype": "text/x-r-source",
   "name": "R",
   "pygments_lexer": "r",
   "version": "3.6.0"
  }
 },
 "nbformat": 4,
 "nbformat_minor": 2
}
